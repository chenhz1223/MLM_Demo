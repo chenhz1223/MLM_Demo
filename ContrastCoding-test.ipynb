{
 "cells": [
  {
   "cell_type": "markdown",
   "id": "03048cbb-815a-4a32-9a25-9eeb3a65b847",
   "metadata": {},
   "source": [
    "# Contrast coding\n",
    "---"
   ]
  },
  {
   "cell_type": "markdown",
   "id": "7e3eb71b-cc51-4c69-ba6f-ee1f7d0109e2",
   "metadata": {},
   "source": [
    "This notebook explores difference between constrast coding."
   ]
  },
  {
   "cell_type": "markdown",
   "id": "f81dbe35-1082-4ba6-9912-858d99da81d4",
   "metadata": {},
   "source": [
    "### Libraries"
   ]
  },
  {
   "cell_type": "code",
   "execution_count": 16,
   "id": "625274a1-4a04-4563-9337-e00871c474ff",
   "metadata": {},
   "outputs": [],
   "source": [
    "using DataFrames, Missings\n",
    "using StatsBase, StatsModels, GLM, Random \n",
    "#using Plots, StatsPlots, Plots.PlotMeasures, Colors, ColorSchemes\n",
    "#using LinearAlgebra, Distributions, FreqTables\n",
    "#using StatsBase, HypothesisTests "
   ]
  },
  {
   "cell_type": "code",
   "execution_count": 1,
   "id": "8d3326a5",
   "metadata": {},
   "outputs": [],
   "source": [
    "using DataFrames, StatsModels, Random"
   ]
  },
  {
   "cell_type": "markdown",
   "id": "923321fc-60ba-4246-92cb-d0792d4246b4",
   "metadata": {},
   "source": [
    "## Data"
   ]
  },
  {
   "cell_type": "code",
   "execution_count": 2,
   "id": "00504028-501a-455a-ade7-aaf1ad9f741c",
   "metadata": {},
   "outputs": [
    {
     "data": {
      "text/html": [
       "<div class=\"data-frame\"><p>100 rows × 7 columns</p><table class=\"data-frame\"><thead><tr><th></th><th>catvar1</th><th>catvar2</th><th>catvar3</th><th>x1</th><th>x2</th><th>x3</th><th>x4</th></tr><tr><th></th><th title=\"Int64\">Int64</th><th title=\"String\">String</th><th title=\"String\">String</th><th title=\"Float64\">Float64</th><th title=\"Float64\">Float64</th><th title=\"Float64\">Float64</th><th title=\"Float64\">Float64</th></tr></thead><tbody><tr><th>1</th><td>1</td><td>A</td><td>E</td><td>0.0305704</td><td>0.223649</td><td>0.198196</td><td>0.98829</td></tr><tr><th>2</th><td>2</td><td>C</td><td>E</td><td>0.594606</td><td>0.823901</td><td>0.489737</td><td>0.582697</td></tr><tr><th>3</th><td>4</td><td>A</td><td>E</td><td>0.00710816</td><td>0.0176562</td><td>0.220826</td><td>0.143616</td></tr><tr><th>4</th><td>4</td><td>A</td><td>E</td><td>0.997248</td><td>0.569468</td><td>0.741995</td><td>0.885134</td></tr><tr><th>5</th><td>5</td><td>B</td><td>E</td><td>0.456335</td><td>0.193274</td><td>0.457017</td><td>0.564806</td></tr><tr><th>6</th><td>1</td><td>B</td><td>E</td><td>0.89749</td><td>0.649155</td><td>0.141094</td><td>0.258384</td></tr><tr><th>7</th><td>4</td><td>C</td><td>D</td><td>0.611742</td><td>0.0403184</td><td>0.188614</td><td>0.834546</td></tr><tr><th>8</th><td>4</td><td>C</td><td>E</td><td>0.391296</td><td>0.376364</td><td>0.815911</td><td>0.984715</td></tr><tr><th>9</th><td>4</td><td>C</td><td>E</td><td>0.46407</td><td>0.370864</td><td>0.158952</td><td>0.175703</td></tr><tr><th>10</th><td>1</td><td>A</td><td>E</td><td>0.222976</td><td>0.729914</td><td>0.887117</td><td>0.0184104</td></tr><tr><th>11</th><td>3</td><td>A</td><td>E</td><td>0.47538</td><td>0.920536</td><td>0.421533</td><td>0.439957</td></tr><tr><th>12</th><td>3</td><td>B</td><td>E</td><td>0.127485</td><td>0.105447</td><td>0.58961</td><td>0.715972</td></tr><tr><th>13</th><td>2</td><td>B</td><td>E</td><td>0.568531</td><td>0.373212</td><td>0.46241</td><td>0.988754</td></tr><tr><th>14</th><td>1</td><td>B</td><td>E</td><td>0.782916</td><td>0.4226</td><td>0.0721894</td><td>0.987945</td></tr><tr><th>15</th><td>3</td><td>C</td><td>D</td><td>0.300788</td><td>0.487393</td><td>0.591675</td><td>0.200444</td></tr><tr><th>16</th><td>4</td><td>A</td><td>D</td><td>0.53121</td><td>0.78826</td><td>0.880676</td><td>0.131143</td></tr><tr><th>17</th><td>1</td><td>A</td><td>E</td><td>0.42663</td><td>0.385302</td><td>0.390956</td><td>0.67171</td></tr><tr><th>18</th><td>1</td><td>B</td><td>E</td><td>0.427446</td><td>0.57316</td><td>0.248824</td><td>0.879928</td></tr><tr><th>19</th><td>2</td><td>A</td><td>E</td><td>0.831592</td><td>0.573439</td><td>0.472929</td><td>0.121362</td></tr><tr><th>20</th><td>1</td><td>A</td><td>E</td><td>0.711377</td><td>0.709321</td><td>0.503921</td><td>0.894054</td></tr><tr><th>21</th><td>3</td><td>C</td><td>D</td><td>0.0764746</td><td>0.222167</td><td>0.741458</td><td>0.218448</td></tr><tr><th>22</th><td>4</td><td>C</td><td>D</td><td>0.342506</td><td>0.585652</td><td>0.068495</td><td>0.633903</td></tr><tr><th>23</th><td>2</td><td>A</td><td>D</td><td>0.777977</td><td>0.106952</td><td>0.365828</td><td>0.550113</td></tr><tr><th>24</th><td>5</td><td>C</td><td>D</td><td>0.554095</td><td>0.391453</td><td>0.635911</td><td>0.559981</td></tr><tr><th>25</th><td>3</td><td>C</td><td>D</td><td>0.34764</td><td>0.861472</td><td>0.552187</td><td>0.116247</td></tr><tr><th>26</th><td>5</td><td>B</td><td>D</td><td>0.793901</td><td>0.0868327</td><td>0.136646</td><td>0.0739651</td></tr><tr><th>27</th><td>2</td><td>C</td><td>E</td><td>0.395111</td><td>0.131785</td><td>0.851939</td><td>0.920008</td></tr><tr><th>28</th><td>5</td><td>B</td><td>E</td><td>0.26458</td><td>0.675178</td><td>0.214001</td><td>0.406735</td></tr><tr><th>29</th><td>5</td><td>C</td><td>D</td><td>0.153067</td><td>0.855785</td><td>0.874882</td><td>0.401281</td></tr><tr><th>30</th><td>4</td><td>A</td><td>D</td><td>0.345441</td><td>0.194743</td><td>0.844856</td><td>0.767585</td></tr><tr><th>&vellip;</th><td>&vellip;</td><td>&vellip;</td><td>&vellip;</td><td>&vellip;</td><td>&vellip;</td><td>&vellip;</td><td>&vellip;</td></tr></tbody></table></div>"
      ],
      "text/latex": [
       "\\begin{tabular}{r|ccccccc}\n",
       "\t& catvar1 & catvar2 & catvar3 & x1 & x2 & x3 & x4\\\\\n",
       "\t\\hline\n",
       "\t& Int64 & String & String & Float64 & Float64 & Float64 & Float64\\\\\n",
       "\t\\hline\n",
       "\t1 & 1 & A & E & 0.0305704 & 0.223649 & 0.198196 & 0.98829 \\\\\n",
       "\t2 & 2 & C & E & 0.594606 & 0.823901 & 0.489737 & 0.582697 \\\\\n",
       "\t3 & 4 & A & E & 0.00710816 & 0.0176562 & 0.220826 & 0.143616 \\\\\n",
       "\t4 & 4 & A & E & 0.997248 & 0.569468 & 0.741995 & 0.885134 \\\\\n",
       "\t5 & 5 & B & E & 0.456335 & 0.193274 & 0.457017 & 0.564806 \\\\\n",
       "\t6 & 1 & B & E & 0.89749 & 0.649155 & 0.141094 & 0.258384 \\\\\n",
       "\t7 & 4 & C & D & 0.611742 & 0.0403184 & 0.188614 & 0.834546 \\\\\n",
       "\t8 & 4 & C & E & 0.391296 & 0.376364 & 0.815911 & 0.984715 \\\\\n",
       "\t9 & 4 & C & E & 0.46407 & 0.370864 & 0.158952 & 0.175703 \\\\\n",
       "\t10 & 1 & A & E & 0.222976 & 0.729914 & 0.887117 & 0.0184104 \\\\\n",
       "\t11 & 3 & A & E & 0.47538 & 0.920536 & 0.421533 & 0.439957 \\\\\n",
       "\t12 & 3 & B & E & 0.127485 & 0.105447 & 0.58961 & 0.715972 \\\\\n",
       "\t13 & 2 & B & E & 0.568531 & 0.373212 & 0.46241 & 0.988754 \\\\\n",
       "\t14 & 1 & B & E & 0.782916 & 0.4226 & 0.0721894 & 0.987945 \\\\\n",
       "\t15 & 3 & C & D & 0.300788 & 0.487393 & 0.591675 & 0.200444 \\\\\n",
       "\t16 & 4 & A & D & 0.53121 & 0.78826 & 0.880676 & 0.131143 \\\\\n",
       "\t17 & 1 & A & E & 0.42663 & 0.385302 & 0.390956 & 0.67171 \\\\\n",
       "\t18 & 1 & B & E & 0.427446 & 0.57316 & 0.248824 & 0.879928 \\\\\n",
       "\t19 & 2 & A & E & 0.831592 & 0.573439 & 0.472929 & 0.121362 \\\\\n",
       "\t20 & 1 & A & E & 0.711377 & 0.709321 & 0.503921 & 0.894054 \\\\\n",
       "\t21 & 3 & C & D & 0.0764746 & 0.222167 & 0.741458 & 0.218448 \\\\\n",
       "\t22 & 4 & C & D & 0.342506 & 0.585652 & 0.068495 & 0.633903 \\\\\n",
       "\t23 & 2 & A & D & 0.777977 & 0.106952 & 0.365828 & 0.550113 \\\\\n",
       "\t24 & 5 & C & D & 0.554095 & 0.391453 & 0.635911 & 0.559981 \\\\\n",
       "\t25 & 3 & C & D & 0.34764 & 0.861472 & 0.552187 & 0.116247 \\\\\n",
       "\t26 & 5 & B & D & 0.793901 & 0.0868327 & 0.136646 & 0.0739651 \\\\\n",
       "\t27 & 2 & C & E & 0.395111 & 0.131785 & 0.851939 & 0.920008 \\\\\n",
       "\t28 & 5 & B & E & 0.26458 & 0.675178 & 0.214001 & 0.406735 \\\\\n",
       "\t29 & 5 & C & D & 0.153067 & 0.855785 & 0.874882 & 0.401281 \\\\\n",
       "\t30 & 4 & A & D & 0.345441 & 0.194743 & 0.844856 & 0.767585 \\\\\n",
       "\t$\\dots$ & $\\dots$ & $\\dots$ & $\\dots$ & $\\dots$ & $\\dots$ & $\\dots$ & $\\dots$ \\\\\n",
       "\\end{tabular}\n"
      ],
      "text/plain": [
       "\u001b[1m100×7 DataFrame\u001b[0m\n",
       "\u001b[1m Row \u001b[0m│\u001b[1m catvar1 \u001b[0m\u001b[1m catvar2 \u001b[0m\u001b[1m catvar3 \u001b[0m\u001b[1m x1         \u001b[0m\u001b[1m x2        \u001b[0m\u001b[1m x3        \u001b[0m\u001b[1m x4        \u001b[0m\n",
       "\u001b[1m     \u001b[0m│\u001b[90m Int64   \u001b[0m\u001b[90m String  \u001b[0m\u001b[90m String  \u001b[0m\u001b[90m Float64    \u001b[0m\u001b[90m Float64   \u001b[0m\u001b[90m Float64   \u001b[0m\u001b[90m Float64   \u001b[0m\n",
       "─────┼────────────────────────────────────────────────────────────────────────\n",
       "   1 │       1  A        E        0.0305704   0.223649   0.198196   0.98829\n",
       "   2 │       2  C        E        0.594606    0.823901   0.489737   0.582697\n",
       "   3 │       4  A        E        0.00710816  0.0176562  0.220826   0.143616\n",
       "   4 │       4  A        E        0.997248    0.569468   0.741995   0.885134\n",
       "   5 │       5  B        E        0.456335    0.193274   0.457017   0.564806\n",
       "   6 │       1  B        E        0.89749     0.649155   0.141094   0.258384\n",
       "   7 │       4  C        D        0.611742    0.0403184  0.188614   0.834546\n",
       "   8 │       4  C        E        0.391296    0.376364   0.815911   0.984715\n",
       "   9 │       4  C        E        0.46407     0.370864   0.158952   0.175703\n",
       "  10 │       1  A        E        0.222976    0.729914   0.887117   0.0184104\n",
       "  11 │       3  A        E        0.47538     0.920536   0.421533   0.439957\n",
       "  ⋮  │    ⋮        ⋮        ⋮         ⋮           ⋮          ⋮          ⋮\n",
       "  91 │       3  C        D        0.705212    0.878161   0.395171   0.962183\n",
       "  92 │       2  A        E        0.518835    0.619545   0.123954   0.608032\n",
       "  93 │       5  C        D        0.279411    0.414677   0.0322595  0.41083\n",
       "  94 │       4  C        E        0.0961147   0.420557   0.884178   0.616475\n",
       "  95 │       5  C        D        0.336805    0.230289   0.999045   0.30256\n",
       "  96 │       5  C        E        0.920988    0.698245   0.178001   0.878986\n",
       "  97 │       3  B        D        0.715962    0.190247   0.648111   0.993601\n",
       "  98 │       5  A        E        0.602801    0.574036   0.10842    0.0471126\n",
       "  99 │       5  B        E        0.783733    0.906839   0.258739   0.772347\n",
       " 100 │       5  B        D        0.240026    0.410284   0.340297   0.926452\n",
       "\u001b[36m                                                               79 rows omitted\u001b[0m"
      ]
     },
     "execution_count": 2,
     "metadata": {},
     "output_type": "execute_result"
    }
   ],
   "source": [
    "Random.seed!(1)\n",
    "# Dimensions of matrices \n",
    "n = 100\n",
    "m = 250\n",
    "\n",
    "# Number of column covariates\n",
    "q = 20\n",
    "\n",
    "# Generate data with two categorical variables and 4 numerical variables.\n",
    "X_df = hcat(DataFrame(catvar1=rand(1:5, n), catvar2=rand([\"A\", \"B\", \"C\"], n),\n",
    "        catvar3=rand([\"D\", \"E\"], n)), DataFrame(rand(n,4),:auto))"
   ]
  },
  {
   "cell_type": "code",
   "execution_count": null,
   "id": "d4ef48c5-444d-4111-aa13-e05f7fe631f0",
   "metadata": {},
   "outputs": [],
   "source": [
    "unique(X_df.catvar2)"
   ]
  },
  {
   "cell_type": "code",
   "execution_count": null,
   "id": "2a15c110",
   "metadata": {},
   "outputs": [],
   "source": [
    "greet = \"Hello\"\n",
    "whom = \"world\"\n",
    "#greet*\",\"*whom\n",
    " \"$greet, $whom.\""
   ]
  },
  {
   "cell_type": "code",
   "execution_count": null,
   "id": "68be0b38",
   "metadata": {},
   "outputs": [],
   "source": [
    "f = \"y ~ catvar1 + catvar2 + x1 + x2 + x3 + x4\"\n",
    "y, xs = split(f, \"~\")\n",
    "sum(term.(split(xs, \"+\")))"
   ]
  },
  {
   "cell_type": "code",
   "execution_count": 4,
   "id": "a1160966",
   "metadata": {},
   "outputs": [
    {
     "data": {
      "text/plain": [
       "catvar1(unknown)\n",
       "catvar2(unknown)\n",
       "catvar3(unknown)\n",
       "x1(unknown)\n",
       "x2(unknown)\n",
       "x3(unknown)\n",
       "x4(unknown)"
      ]
     },
     "execution_count": 4,
     "metadata": {},
     "output_type": "execute_result"
    }
   ],
   "source": [
    "macro mlmFormula(ex)\n",
    "    name = string(ex)\n",
    "    name = join(map(x -> isspace(name[x]) ? \"\" : name[x], 1:length(name)))\n",
    "    return :(sum(term.(split($name, \"+\"))))\n",
    "end\n",
    "\n",
    "@mlmFormula(catvar1 + catvar2 + catvar3 + x1 + x2 + x3 + x4)\n"
   ]
  },
  {
   "cell_type": "code",
   "execution_count": 9,
   "id": "7305838e",
   "metadata": {},
   "outputs": [
    {
     "data": {
      "text/plain": [
       "100×11 Matrix{Float64}:\n",
       " 0.0  0.0  0.0  0.0  -1.0  -1.0  1.0  …  0.223649   0.198196   0.98829\n",
       " 1.0  0.0  0.0  0.0   0.0   1.0  1.0     0.823901   0.489737   0.582697\n",
       " 0.0  0.0  1.0  0.0  -1.0  -1.0  1.0     0.0176562  0.220826   0.143616\n",
       " 0.0  0.0  1.0  0.0  -1.0  -1.0  1.0     0.569468   0.741995   0.885134\n",
       " 0.0  0.0  0.0  1.0   1.0   0.0  1.0     0.193274   0.457017   0.564806\n",
       " 0.0  0.0  0.0  0.0   1.0   0.0  1.0  …  0.649155   0.141094   0.258384\n",
       " 0.0  0.0  1.0  0.0   0.0   1.0  0.0     0.0403184  0.188614   0.834546\n",
       " 0.0  0.0  1.0  0.0   0.0   1.0  1.0     0.376364   0.815911   0.984715\n",
       " 0.0  0.0  1.0  0.0   0.0   1.0  1.0     0.370864   0.158952   0.175703\n",
       " 0.0  0.0  0.0  0.0  -1.0  -1.0  1.0     0.729914   0.887117   0.0184104\n",
       " 0.0  1.0  0.0  0.0  -1.0  -1.0  1.0  …  0.920536   0.421533   0.439957\n",
       " 0.0  1.0  0.0  0.0   1.0   0.0  1.0     0.105447   0.58961    0.715972\n",
       " 1.0  0.0  0.0  0.0   1.0   0.0  1.0     0.373212   0.46241    0.988754\n",
       " ⋮                          ⋮         ⋱                        ⋮\n",
       " 1.0  0.0  0.0  0.0  -1.0  -1.0  1.0     0.657296   0.897495   0.130657\n",
       " 0.0  1.0  0.0  0.0   0.0   1.0  1.0     0.335338   0.13026    0.750975\n",
       " 0.0  1.0  0.0  0.0   0.0   1.0  0.0  …  0.878161   0.395171   0.962183\n",
       " 1.0  0.0  0.0  0.0  -1.0  -1.0  1.0     0.619545   0.123954   0.608032\n",
       " 0.0  0.0  0.0  1.0   0.0   1.0  0.0     0.414677   0.0322595  0.41083\n",
       " 0.0  0.0  1.0  0.0   0.0   1.0  1.0     0.420557   0.884178   0.616475\n",
       " 0.0  0.0  0.0  1.0   0.0   1.0  0.0     0.230289   0.999045   0.30256\n",
       " 0.0  0.0  0.0  1.0   0.0   1.0  1.0  …  0.698245   0.178001   0.878986\n",
       " 0.0  1.0  0.0  0.0   1.0   0.0  0.0     0.190247   0.648111   0.993601\n",
       " 0.0  0.0  0.0  1.0  -1.0  -1.0  1.0     0.574036   0.10842    0.0471126\n",
       " 0.0  0.0  0.0  1.0   1.0   0.0  1.0     0.906839   0.258739   0.772347\n",
       " 0.0  0.0  0.0  1.0   1.0   0.0  0.0     0.410284   0.340297   0.926452"
      ]
     },
     "execution_count": 9,
     "metadata": {},
     "output_type": "execute_result"
    }
   ],
   "source": [
    "function design_matrix(;f, df::DataFrame, cntrstArray)\n",
    "    cntrst = Dict{Symbol, AbstractContrasts}()\n",
    "    for cntrsTuple in cntrstArray\n",
    "        for i in 1:length(cntrsTuple)-1\n",
    "            fun = cntrsTuple[length(cntrsTuple)]\n",
    "            cntrst[cntrsTuple[i]] = fun\n",
    "        end\n",
    "    end    \n",
    "    return modelmatrix(f, df, hints= cntrst)\n",
    "end\n",
    "\n",
    "design_matrix(f=@mlmFormula(catvar1 + catvar2 + catvar3 + x1 + x2 + x3 + x4),df=X_df,\n",
    "               cntrstArray=[(:catvar1,:catvar3, DummyCoding()) (:catvar2,  EffectsCoding()) ]  )"
   ]
  },
  {
   "cell_type": "code",
   "execution_count": null,
   "id": "ee270ddc-fee0-48a3-b083-ff5a99645e5c",
   "metadata": {},
   "outputs": [],
   "source": [
    "typeof(contrasts)"
   ]
  },
  {
   "cell_type": "code",
   "execution_count": null,
   "id": "9a12e277-8cd8-4389-a9a0-9b9ea65566a9",
   "metadata": {},
   "outputs": [],
   "source": [
    "# Convert dataframe to predicton matrix\n",
    "# X = Matrix(contr(X_df, [:catvar1, :catvar2], [\"treat\", \"sum\"]))\n",
    "\n",
    "# # Generate X matrix\n",
    "# contrasts = Dict(:catvar1 => DummyCoding(base = \"1\"), :catvar2 => EffectsCoding(base = \"A\"))\n",
    "# # contrasts = Dict(:catvar1 => StatsModels.FullDummyCoding())\n",
    "# frml = @formula(y ~  catvar1 + catvar2 + x1 + x2 + x3 + x4).rhs\n",
    "# # # mf = ModelFrame(frml, df_data)\n",
    "# X = modelmatrix(frml, X_df, hints = contrasts);\n",
    "# lm(frml, df_data, contrasts = contrasts)\n",
    "X = modelmatrix(@formula(y ~  catvar1 + catvar2 + x1 + x2 + x3 + x4).rhs, X_df, \n",
    "    hints= Dict(:catvar1 => DummyCoding(base = \"1\"), :catvar2 => EffectsCoding(base = \"A\")))\n",
    "\n",
    "\n",
    "# X = new_Matrix(@fmrl y ~  catvar1 + catvar2 + x1 + x2 + x3 + x4, X_df, \n",
    "#     Dict(:catvar1 => DummyCoding(base = \"1\"), :catvar2 => EffectsCoding(base = \"A\"))) "
   ]
  },
  {
   "cell_type": "code",
   "execution_count": null,
   "id": "72526f1f-b683-47aa-bfff-7811f5491a52",
   "metadata": {
    "jupyter": {
     "outputs_hidden": true,
     "source_hidden": true
    },
    "tags": []
   },
   "outputs": [],
   "source": [
    "# distibution for each group\n",
    "d_A = Normal(30, 7); d_B = Normal(40, 7); d_age_A =  Normal(35, 5); d_age_B =  Normal(50, 2);\n",
    "\n",
    "# generate data toy\n",
    "m_data = hcat(vcat(rand(d_A, 40), rand(d_B, 40)), # score\n",
    "              vcat(repeat([\"A\"], 40), repeat([\"B\"], 40)), # group\n",
    "              vcat(repeat([\"male\"], 20), repeat([\"female\"], 20), repeat([\"male\"], 20), repeat([\"female\"], 20)), # sex\n",
    "              repeat([\"w\", \"nw\"], 40),\n",
    "                # shuffle(repeat([\"w\", \"nw\"], 40)), # race\n",
    "              Int.(vcat((round.(rand(d_age_A, 40))), (round.(rand(d_age_B, 40)))))  )\n",
    "m_data = m_data[shuffle(1:size(m_data,1)), :];\n",
    "\n",
    "# generate dataframe \n",
    "df_data = DataFrame(group = string.(vec(m_data[:, 2])), sex = string.(vec(m_data[:, 3])), \n",
    "                    race = string.(vec(m_data[:, 4])), age = Int.(vec(m_data[:, 5])), \n",
    "                    score = float.(vec(m_data[:, 1])))\n",
    "first(df_data, 4)"
   ]
  },
  {
   "cell_type": "markdown",
   "id": "6986f5fa-d5af-49fd-ac68-6c5e6c4f1ebd",
   "metadata": {},
   "source": [
    "## Two levels - one covariate"
   ]
  },
  {
   "cell_type": "markdown",
   "id": "51afe3f5-e59a-4658-a362-6ab76b3524b3",
   "metadata": {},
   "source": [
    "### Dummy coding"
   ]
  },
  {
   "cell_type": "code",
   "execution_count": null,
   "id": "f106c854-1017-4b90-8d67-de02fe06c0fa",
   "metadata": {},
   "outputs": [],
   "source": [
    "# Generate X matrix\n",
    "contrasts = Dict(:group => DummyCoding(base = \"A\"))\n",
    "# contrasts = Dict(:group => StatsModels.FullDummyCoding())\n",
    "frml = @formula(score ~ 1 + group)\n",
    "# mf = ModelFrame(frml, df_data)\n",
    "mX = modelmatrix(frml, df_data, hints = contrasts);\n",
    "lm(frml, df_data, contrasts = contrasts)"
   ]
  },
  {
   "cell_type": "code",
   "execution_count": null,
   "id": "5ab72cd6-7867-44fd-be5b-ae1a39def1d6",
   "metadata": {},
   "outputs": [],
   "source": [
    "gdf =  groupby(sort(df_data, :group), :group); df_group_mean = combine(gdf, :score => mean ) \n",
    "display(df_group_mean) \n",
    "println(\"Mean group A = \", round(df_group_mean.score_mean[1], digits = 4))\n",
    "println(\"Mean group B - Mean group A = \",\n",
    "    round(df_group_mean.score_mean[2]-df_group_mean.score_mean[1], digits = 4))"
   ]
  },
  {
   "cell_type": "markdown",
   "id": "52a0be84-8184-4ced-8161-9e3065fca8af",
   "metadata": {},
   "source": [
    "### Effect coding"
   ]
  },
  {
   "cell_type": "code",
   "execution_count": null,
   "id": "8911ca62-cf52-4e61-8ff0-077857c685a1",
   "metadata": {},
   "outputs": [],
   "source": [
    "# Generate X matrix\n",
    "contrasts = Dict(:group => EffectsCoding(base = \"A\"))\n",
    "frml = @formula(score ~ 1 + group)\n",
    "# mf = ModelFrame(frml, df_data)\n",
    "mX = modelmatrix(frml, df_data, hints = contrasts)\n",
    "lm(frml, df_data, contrasts = contrasts)"
   ]
  },
  {
   "cell_type": "code",
   "execution_count": null,
   "id": "a2804683-90a7-4180-bc67-37408e195d47",
   "metadata": {},
   "outputs": [],
   "source": [
    "println(\"Average score across the group \\n μ(μ_group_B, μ_group_A) = \", round((df_group_mean.score_mean[1]+df_group_mean.score_mean[2])*0.5, digits = 4))\n",
    "println(\"Average difference between the 2 groups divided by 2 \\n (μ_group_B - μ_group_A)*0.5 = \", \n",
    "    round((df_group_mean.score_mean[2]-df_group_mean.score_mean[1])*0.5, digits = 4))"
   ]
  },
  {
   "cell_type": "markdown",
   "id": "5e182160-4c29-43fb-adf5-06af24378d14",
   "metadata": {},
   "source": [
    "## Two levels - two covariates"
   ]
  },
  {
   "cell_type": "markdown",
   "id": "ca2c45c0-a1e7-4c79-90c8-4f8920eaee13",
   "metadata": {
    "tags": []
   },
   "source": [
    "### Dummy coding - no interaction"
   ]
  },
  {
   "cell_type": "code",
   "execution_count": null,
   "id": "23cd0909-31a3-4814-bd2c-5a02898e6c07",
   "metadata": {},
   "outputs": [],
   "source": [
    "# Generate X matrix\n",
    "contrasts = Dict(:group => DummyCoding(base = \"A\"), :sex => DummyCoding(base = \"female\"))\n",
    "frml = @formula(score ~ 1 + group + sex)\n",
    "# mf = ModelFrame(frml, df_data)\n",
    "mX = modelmatrix(frml, df_data, hints = contrasts);\n",
    "lm(frml, df_data, contrasts = contrasts)"
   ]
  },
  {
   "cell_type": "code",
   "execution_count": null,
   "id": "bad1c8e5-c683-486b-b775-ef5a552985b8",
   "metadata": {},
   "outputs": [],
   "source": [
    "gdf =  groupby(sort(df_data, [:group, :sex]), [:group, :sex]); df_group_sex_mean = combine(gdf, :score => mean ) \n",
    "gdf =  groupby(sort(df_data, [:group, :sex]),  :sex); df_sex_mean = combine(gdf, :score => mean ) \n",
    "display(df_group_sex_mean) \n",
    "println(\"Mean female group A = \", round(df_group_sex_mean.score_mean[1], digits = 4),\n",
    "        \", under the assumption of additivity.\")\n",
    "println(\"Mean group B - Mean group A = \", \n",
    "    round(df_group_mean.score_mean[2]-df_group_mean.score_mean[1], digits = 4))\n",
    "println(\"Mean Male - Mean Female = \", \n",
    "    round(df_sex_mean.score_mean[2]-df_sex_mean.score_mean[1], digits = 4))"
   ]
  },
  {
   "cell_type": "markdown",
   "id": "3966673a-46ed-440b-8da6-1db94e8fb016",
   "metadata": {
    "tags": []
   },
   "source": [
    "### Dummy coding - with interaction"
   ]
  },
  {
   "cell_type": "code",
   "execution_count": null,
   "id": "f1b8352f-f78b-4bbe-b913-77fd723970a7",
   "metadata": {},
   "outputs": [],
   "source": [
    "# Generate X matrix\n",
    "contrasts = Dict(:group => DummyCoding(base = \"A\"), :sex => DummyCoding(base = \"female\"))\n",
    "frml = @formula(score ~ 1 + group + sex + group*sex)\n",
    "# mf = ModelFrame(frml, df_data)\n",
    "mX = modelmatrix(frml, df_data, hints = contrasts);\n",
    "lm(frml, df_data, contrasts = contrasts)"
   ]
  },
  {
   "cell_type": "code",
   "execution_count": null,
   "id": "c1d89608-d2e3-43d2-8465-37a9644ce755",
   "metadata": {},
   "outputs": [],
   "source": [
    "println(\"Mean female group A = \", round(df_group_sex_mean.score_mean[1], digits = 4))\n",
    "println(\"Mean female group B - Mean female group A = \", \n",
    "    round(df_group_sex_mean.score_mean[3]-df_group_sex_mean.score_mean[1], digits = 4))\n",
    "println(\"Mean male group A - Mean female group A = \", \n",
    "    round(df_group_sex_mean.score_mean[2]-df_group_sex_mean.score_mean[1], digits = 4))\n",
    "println(\"(Mean male group B - Mean female group B) - (Mean male group A - Mean female group A) = \", \n",
    "    round((df_group_sex_mean.score_mean[4]-df_group_sex_mean.score_mean[3])-(df_group_sex_mean.score_mean[2]-df_group_sex_mean.score_mean[1]), \n",
    "        digits = 4) )"
   ]
  },
  {
   "cell_type": "markdown",
   "id": "c15895e9-7658-463a-a352-521c8e2d8c73",
   "metadata": {
    "tags": []
   },
   "source": [
    "### Effect coding - no interaction"
   ]
  },
  {
   "cell_type": "code",
   "execution_count": null,
   "id": "81d4bd14-2bb3-4d3d-bede-81fbfb97c14c",
   "metadata": {},
   "outputs": [],
   "source": [
    "# Generate X matrix\n",
    "contrasts = Dict(:group => EffectsCoding(base = \"A\"), :sex => EffectsCoding(base = \"female\"))\n",
    "frml = @formula(score ~ 1 + group + sex)\n",
    "# mf = ModelFrame(frml, df_data)\n",
    "mX = modelmatrix(frml, df_data, hints = contrasts)\n",
    "lm(frml, df_data, contrasts = contrasts)"
   ]
  },
  {
   "cell_type": "code",
   "execution_count": null,
   "id": "efcc56c6-1ac9-4bc7-9382-8fc3e0607920",
   "metadata": {},
   "outputs": [],
   "source": [
    "println(\"Mean(Mean group B, Mean group A) = \", #mean(df_AvB_sex_mean.score_mean)\n",
    "    round((df_group_mean.score_mean[1]+df_group_mean.score_mean[2])*0.5, digits = 4))\n",
    "println(\"[Mean group B - Mean group A]*0.5 = \",\n",
    "    round((df_group_mean.score_mean[2]-df_group_mean.score_mean[1])*0.5, digits = 4))\n",
    "println(\"[Mean male - Mean female]*0.5 = \",\n",
    "    round((df_sex_mean.score_mean[2]-df_sex_mean.score_mean[1])*0.5, digits = 4))"
   ]
  },
  {
   "cell_type": "markdown",
   "id": "91181c59-a9d7-4cb2-8f72-b8590552153c",
   "metadata": {
    "tags": []
   },
   "source": [
    "### Effect coding - with interaction"
   ]
  },
  {
   "cell_type": "code",
   "execution_count": null,
   "id": "7d3cbebf-882d-44de-9a23-32c3c9e483bc",
   "metadata": {},
   "outputs": [],
   "source": [
    "# Generate X matrix\n",
    "contrasts = Dict(:group => EffectsCoding(base = \"A\"), :sex => EffectsCoding(base = \"female\"))\n",
    "frml = @formula(score ~ 1 + group + sex + group*sex)\n",
    "# mf = ModelFrame(frml, df_data)\n",
    "mX = modelmatrix(frml, df_data, hints = contrasts)\n",
    "lm(frml, df_data, contrasts = contrasts)"
   ]
  },
  {
   "cell_type": "code",
   "execution_count": null,
   "id": "f5b403c3-6993-48b9-99da-14de3da4d951",
   "metadata": {},
   "outputs": [],
   "source": [
    "df_group_sex_mean"
   ]
  },
  {
   "cell_type": "code",
   "execution_count": null,
   "id": "cf00f8c1-8cb2-4af7-8681-f1597d8dfd72",
   "metadata": {},
   "outputs": [],
   "source": [
    "println(\"Mean(Mean female group B, Mean female group A, Mean male group B, Mean male group A) = \", \n",
    "    round(mean(df_group_sex_mean.score_mean), digits = 4))\n",
    "println(\"Mean[(Mean B|female - Mean A|female)*0.5, (Mean B|male - Mean A|male)*0.5] = \",\n",
    "    round(mean([0.5*(df_group_sex_mean.score_mean[4]-df_group_sex_mean.score_mean[2]),\n",
    "                0.5*(df_group_sex_mean.score_mean[3]-df_group_sex_mean.score_mean[1])]), digits = 4))\n",
    "println(\"Mean[(Mean male|B - Mean female|B)*0.5, (Mean male|A - Mean female|A)*0.5] = \",\n",
    "    round(mean([0.5*(df_group_sex_mean.score_mean[4]-df_group_sex_mean.score_mean[3]),\n",
    "                0.5*(df_group_sex_mean.score_mean[2]-df_group_sex_mean.score_mean[1])]), digits = 4))\n",
    "println(\"0.5*[(Mean male|B - Mean female|B)*0.5 - (Mean male|A - Mean female|A)*0.5] = \",\n",
    "    round((0.5*(0.5*(df_group_sex_mean.score_mean[4]-df_group_sex_mean.score_mean[3]) -\n",
    "                0.5*(df_group_sex_mean.score_mean[2]-df_group_sex_mean.score_mean[1]))), digits = 4))"
   ]
  },
  {
   "cell_type": "markdown",
   "id": "0b9fba96-8639-416b-932c-7d67825e433d",
   "metadata": {},
   "source": [
    "## Two levels - three covariates"
   ]
  },
  {
   "cell_type": "markdown",
   "id": "f4a1d940-4df1-4b0b-a703-a09e963ae222",
   "metadata": {
    "tags": []
   },
   "source": [
    "### Effect coding - with interaction"
   ]
  },
  {
   "cell_type": "code",
   "execution_count": null,
   "id": "6f01db3c-78fe-45f2-bbff-d20c6be949ee",
   "metadata": {},
   "outputs": [],
   "source": [
    "# Generate X matrix\n",
    "contrasts = Dict(:group => EffectsCoding(base = \"A\"), :sex => EffectsCoding(base = \"female\"), \n",
    "                 :race=> EffectsCoding(base = \"nw\")   )\n",
    "frml = @formula(score ~ 1 + group + sex + race + group*sex + group*race + sex*race)\n",
    "# mf = ModelFrame(frml, df_data)\n",
    "mX = modelmatrix(frml, df_data, hints = contrasts)\n",
    "lm(frml, df_data, contrasts = contrasts)"
   ]
  },
  {
   "cell_type": "code",
   "execution_count": null,
   "id": "f65e68fa-7eb4-4ab6-ad2f-deb481b3f046",
   "metadata": {
    "tags": []
   },
   "outputs": [],
   "source": [
    "gdf =  groupby(sort(df_data, [:race]), [:race]); df_race_mean = combine(gdf, :score => mean )\n",
    "gdf =  groupby(sort(df_data, [:group, :race]), [:group, :race]); df_group_race_mean = combine(gdf, :score => mean )\n",
    "gdf =  groupby(sort(df_data, [:sex, :race]), [:sex, :race]); df_sex_race_mean = combine(gdf, :score => mean )\n",
    "gdf =  groupby(sort(df_data, [:group, :race, :sex]), [:group, :race, :sex,]); df_group_race_sex_mean = combine(gdf, :score => mean )\n",
    "gdf =  groupby(sort(df_data, [:sex, :race, :group]), [:sex, :race, :group]); df_sex_race_group_mean = combine(gdf, :score => mean )\n",
    "gdf =  groupby(sort(df_data, [:group, :sex, :race]), [:group, :sex, :race]); df_group_sex_race_mean = combine(gdf, :score => mean )\n",
    "gdf =  groupby(sort(df_data, [ :race, :sex, :group]), [ :race, :sex, :group]); df_race_sex_group_mean = combine(gdf, :score => mean );"
   ]
  },
  {
   "cell_type": "code",
   "execution_count": null,
   "id": "fc383cd6-ccf0-4295-b612-2ec01ec1af14",
   "metadata": {
    "tags": []
   },
   "outputs": [],
   "source": [
    "println(\"Mean(Mean sex vs group , Mean race vs group) = \", \n",
    "    round(mean(vcat(df_group_sex_mean.score_mean, df_group_race_mean.score_mean)), digits = 4))\n",
    "\n",
    "println(\"Mean(main effect group for sex and race) = \",\n",
    "    round(mean(permutedims(reshape(vec(df_sex_race_group_mean.score_mean), 2, 4))*[-0.5;0.5]), digits = 4))\n",
    "    # round(mean([mean([0.5*(df_AvB_sex_mean.score_mean[4]-df_AvB_sex_mean.score_mean[2]),\n",
    "    #                 0.5*(df_AvB_sex_mean.score_mean[3]-df_AvB_sex_mean.score_mean[1])]),\n",
    "    #                 mean([0.5*(df_AvB_race_mean.score_mean[4]-df_AvB_race_mean.score_mean[2]),\n",
    "    #                 0.5*(df_AvB_race_mean.score_mean[3]-df_AvB_race_mean.score_mean[1])])]), digits = 4))\n",
    "   \n",
    "println(\"Mean(main effect sex for group and race) = \",\n",
    "    round(mean(permutedims(reshape(vec(df_group_race_sex_mean.score_mean), 2, 4))*[-0.5;0.5]), digits = 4))\n",
    "\n",
    "println(\"Mean(main effect race for sex and group) = \",\n",
    "    round(mean(permutedims(reshape(vec(df_group_sex_race_mean.score_mean), 2, 4))*[-0.5;0.5]), digits = 4))\n",
    "\n",
    "println(\"Mean(Interaction effect group - sex for race) = \",\n",
    "    round(mean(permutedims(reshape(vec(df_race_sex_group_mean.score_mean), 4, 2))*[0.25;-0.25;-0.25;0.25]),\n",
    "            digits = 6))\n",
    "\n",
    "println(\"Mean(Interaction effect group - race for sex) = \",\n",
    "    round(mean(permutedims(reshape(vec(df_sex_race_group_mean.score_mean), 4, 2))*[0.25;-0.25;-0.25;0.25]),\n",
    "            digits = 4))\n",
    "\n",
    "println(\"Mean(Interaction effect group - race for sex) = \",\n",
    "    round(mean(permutedims(reshape(vec(df_group_sex_race_mean.score_mean), 4, 2))*[0.25;-0.25;-0.25;0.25]),\n",
    "            digits = 4))"
   ]
  },
  {
   "cell_type": "markdown",
   "id": "3bc03b5a-6753-480c-ae5f-114cd0654bff",
   "metadata": {},
   "source": [
    "## One 2-levels categorical and one continuous covariates"
   ]
  },
  {
   "cell_type": "markdown",
   "id": "6f0f3c8b-c086-43dc-8fc3-57ee7bbef2fb",
   "metadata": {},
   "source": [
    "When using continuous variable with only integer number, it is preferable to generate manually our own schema applied to our formula.\n",
    "\n",
    ">\"Compute all the invariants necessary to fit a model with terms. A schema is a dict that maps Terms to their concrete instantiations (either CategoricalTerms or ContinuousTerms. \"Hints\" may optionally be supplied in the form of a Dict mapping term names (as Symbols) to term or contrast types. If a hint is not provided for a variable, the appropriate term type will be guessed based on the data type from the data column: any numeric data is assumed to be continuous, and any non-numeric data is assumed to be categorical.\"\n",
    "\n",
    "\n"
   ]
  },
  {
   "cell_type": "code",
   "execution_count": null,
   "id": "da6354d2-2734-46d3-b35c-d83dc2ea7c48",
   "metadata": {},
   "outputs": [],
   "source": [
    "# Create concrete term including the Coding format\n",
    "# Continuous\n",
    "cont_age = concrete_term(term(:age), [minimum(df_data.age), maximum(df_data.age)])\n",
    "cont_score = concrete_term(term(:score), [minimum(df_data.score), maximum(df_data.score)])\n",
    "# cont_age = concrete_term(term(:age), df_data.age)\n",
    "# cont_score = concrete_term(term(:score), df_data.score)\n",
    "# Categorical\n",
    "cat_group = CategoricalTerm(:group, StatsModels.ContrastsMatrix(EffectsCoding(base = \"A\"), unique(df_data.group)))\n",
    "cat_sex = CategoricalTerm(:sex, StatsModels.ContrastsMatrix(EffectsCoding(base = \"female\"), unique(df_data.sex)))\n",
    "cat_race = CategoricalTerm(:race, StatsModels.ContrastsMatrix(EffectsCoding(base = \"nw\"), unique(df_data.race)))\n",
    "# Categorical\n",
    "# cat_group = CategoricalTerm(:group, StatsModels.ContrastsMatrix(DummyCoding(base = \"A\"), unique(df_data.group)))\n",
    "# cat_sex = CategoricalTerm(:sex, StatsModels.ContrastsMatrix(DummyCoding(base = \"female\"), unique(df_data.sex)))\n",
    "# cat_race = CategoricalTerm(:race, StatsModels.ContrastsMatrix(DummyCoding(base = \"nw\"), unique(df_data.race)))"
   ]
  },
  {
   "cell_type": "code",
   "execution_count": null,
   "id": "cdb567d7-5ca2-403d-ab62-2aa3beb2e2f5",
   "metadata": {},
   "outputs": [],
   "source": [
    "# Generate schema \n",
    "sch1 = StatsModels.Schema(term(:age) => cont_age, term(:score) => cont_score, \n",
    "                          term(:group) => cat_group,\n",
    "                          term(:sex) => cat_sex, term(:race) => cat_race)"
   ]
  },
  {
   "cell_type": "markdown",
   "id": "87119801-0ffe-4fe7-8189-486e1c3a2c21",
   "metadata": {
    "tags": []
   },
   "source": [
    "### Effect coding - no interaction"
   ]
  },
  {
   "cell_type": "code",
   "execution_count": null,
   "id": "e136ef95-0224-41c6-b475-fc0bc9ecc241",
   "metadata": {
    "tags": []
   },
   "outputs": [],
   "source": [
    "df_data2 = copy(df_data)\n",
    "df_data2.age = df_data2.age .- mean(df_data2.age) ;"
   ]
  },
  {
   "cell_type": "code",
   "execution_count": null,
   "id": "4a138697-c70b-4e14-9ac7-1b4adcfe9a1b",
   "metadata": {},
   "outputs": [],
   "source": [
    "# Model Formula\n",
    "frml =  @formula(score ~ 1 + group + age + group*age )\n",
    "# Apply schema to the formula\n",
    "frml = apply_schema(frml, sch1)\n",
    "# Design matrix\n",
    "mX = modelmatrix(frml, df_data, hints = contrasts);"
   ]
  },
  {
   "cell_type": "code",
   "execution_count": null,
   "id": "22b8eca6-7b76-4cc0-a793-df8de1c4eb7f",
   "metadata": {
    "tags": []
   },
   "outputs": [],
   "source": [
    "# mX[:,2] = mX[:,2].*0.5\n",
    "# mX[:,4] = mX[:,4].*0.5\n",
    "dfTest = DataFrame(hcat(mX[:,[2,3]],df_data.score ), :auto);\n",
    "lm( @formula(x3 ~ 1 + x1 + x2 + x1*x2 ), dfTest);"
   ]
  },
  {
   "cell_type": "code",
   "execution_count": null,
   "id": "f255fb22-7418-48f1-82e9-150aedc4b98d",
   "metadata": {},
   "outputs": [],
   "source": [
    "# Linear model\n",
    "out =  lm(frml, df_data2)"
   ]
  },
  {
   "cell_type": "code",
   "execution_count": null,
   "id": "77e0018d-b8de-444b-b40d-30867deec6a7",
   "metadata": {},
   "outputs": [],
   "source": [
    "df_group_mean"
   ]
  },
  {
   "cell_type": "code",
   "execution_count": null,
   "id": "5ac6f72b-c037-4675-b658-e54a3e1059c7",
   "metadata": {},
   "outputs": [],
   "source": [
    "scatter(gdf[1].age, gdf[1].score)\n",
    "scatter!(gdf[2].age, gdf[2].score, legend = false)"
   ]
  },
  {
   "cell_type": "code",
   "execution_count": null,
   "id": "4b72e435-b445-41f3-8bb4-866714ccaa94",
   "metadata": {},
   "outputs": [],
   "source": [
    "mean(df_group_mean.score_mean) + sum(coef(out)[2])"
   ]
  },
  {
   "cell_type": "code",
   "execution_count": null,
   "id": "99245196-1b0f-4320-8b91-32813ab86203",
   "metadata": {
    "tags": []
   },
   "outputs": [],
   "source": [
    "(mean(gdf[2].score)+mean(gdf[1].score))/2"
   ]
  },
  {
   "cell_type": "code",
   "execution_count": null,
   "id": "c1e45954-7165-404d-9e2f-97aca2658564",
   "metadata": {},
   "outputs": [],
   "source": [
    "[a , b]"
   ]
  },
  {
   "cell_type": "code",
   "execution_count": null,
   "id": "862c6fa4-dd98-49c0-b342-e81aa5dd0744",
   "metadata": {},
   "outputs": [],
   "source": [
    "gdf =  groupby(sort(df_data, :group), :group);\n",
    "# a = cor(gdf[1].score, gdf[1].age); b =  cor(gdf[2].score, gdf[2].age)\n",
    "# (a+b)/2"
   ]
  },
  {
   "cell_type": "code",
   "execution_count": null,
   "id": "2dc3cc4b-e0b7-4178-92c7-49868892d72d",
   "metadata": {},
   "outputs": [],
   "source": [
    "b-a"
   ]
  },
  {
   "cell_type": "code",
   "execution_count": null,
   "id": "b4ed160f-8447-45e7-ad61-4be36033ea48",
   "metadata": {},
   "outputs": [],
   "source": [
    "println(\"[Mean group B - Mean group A]*0.5 = \",\n",
    "    round((df_AvB_mean.score_mean[2]-df_AvB_mean.score_mean[1])*0.5, digits = 4))"
   ]
  },
  {
   "cell_type": "code",
   "execution_count": null,
   "id": "29d5a369-f0d4-4292-9cbd-733ae30b7a19",
   "metadata": {},
   "outputs": [],
   "source": [
    "mean([0.5*(df_AvB_sex_mean.score_mean[4]-df_AvB_sex_mean.score_mean[2]), 0.5*(df_AvB_sex_mean.score_mean[3]-df_AvB_sex_mean.score_mean[1])])"
   ]
  },
  {
   "cell_type": "code",
   "execution_count": null,
   "id": "4bae46ba-7577-46ef-9ccc-d816957a5f7b",
   "metadata": {},
   "outputs": [],
   "source": [
    "round(mean(permutedims(reshape(vec(df_sex_group_mean.score_mean), 2, 4))*[-0.5;0.5]), digits = 4)"
   ]
  },
  {
   "cell_type": "code",
   "execution_count": null,
   "id": "cef5eaed-46d2-4b71-a7b6-56a59b15b911",
   "metadata": {},
   "outputs": [],
   "source": [
    "round((df_AvB_mean.score_mean[1]+df_AvB_mean.score_mean[2])*0.5, digits = 4) + 7.908"
   ]
  },
  {
   "cell_type": "code",
   "execution_count": null,
   "id": "5910131e-20c8-4ec5-950b-6391e0b459d4",
   "metadata": {},
   "outputs": [],
   "source": [
    "gdf =  groupby(sort(df_data, :group), :group); df_AvB_mean = combine(gdf, :score => mean )\n",
    "\n",
    "\n",
    "println(\"Mean(Mean sex vs group , Mean race vs group) = \", \n",
    "    round(mean(vcat(df_AvB_race_mean.score_mean, df_AvB_sex_mean.score_mean)), digits = 4))"
   ]
  },
  {
   "cell_type": "code",
   "execution_count": null,
   "id": "a2fbb31f-ef76-4eb4-afb4-f7cd175607a8",
   "metadata": {},
   "outputs": [],
   "source": []
  },
  {
   "cell_type": "markdown",
   "id": "9e3b7954-170d-4634-a8de-c5a90ec5c48c",
   "metadata": {
    "tags": [],
    "toc-hr-collapsed": true
   },
   "source": [
    "### Effect coding - with interaction"
   ]
  },
  {
   "cell_type": "code",
   "execution_count": null,
   "id": "1bb472d7-8c46-4175-9121-152eef801719",
   "metadata": {},
   "outputs": [],
   "source": [
    "# Model Formula\n",
    "frml =  @formula(score ~ 1 + group + sex + age + group*sex +  age*group + age*sex)\n",
    "# Apply schema to the formula\n",
    "frml = apply_schema(frml, sch1)"
   ]
  },
  {
   "cell_type": "code",
   "execution_count": null,
   "id": "0b087979-0263-4908-a778-059a79ee4e03",
   "metadata": {},
   "outputs": [],
   "source": [
    "# frml = @formula(score ~ 1 + group + sex + race + group*sex + group*race + sex*race)\n",
    "# mf = ModelFrame(frml, df_data)\n",
    "# mX = modelmatrix(frml, df_data, hints = contrasts)\n",
    "lm(frml, df_data)"
   ]
  },
  {
   "cell_type": "code",
   "execution_count": null,
   "id": "5ae4c66a-e92d-48b7-a7c0-a9452f43ffed",
   "metadata": {},
   "outputs": [],
   "source": [
    "mean(df_AvB_sex_mean.score_mean)+7.908"
   ]
  },
  {
   "cell_type": "markdown",
   "id": "73c30647-4781-4bef-b69b-13eb7d45448f",
   "metadata": {},
   "source": [
    "##  Example in R "
   ]
  },
  {
   "cell_type": "code",
   "execution_count": null,
   "id": "b788b433-9c25-4900-afcc-cbdbe967d48f",
   "metadata": {},
   "outputs": [],
   "source": [
    "using RCall"
   ]
  },
  {
   "cell_type": "code",
   "execution_count": null,
   "id": "ccbf3faa-3a60-4983-bc07-ac0d8729ae03",
   "metadata": {},
   "outputs": [],
   "source": [
    "R\"\"\"\n",
    "library(MASS)\n",
    "# Generage fake data for male\n",
    "data_male <- data.frame(mvrnorm(n=1000,mu=c(2,0),Sigma=rbind(c(1,.8),c(.8,1)),empirical=TRUE ) )\n",
    "colnames(data_male)<-c('Income','Age')\n",
    "data_male$Gender = 'Male'\n",
    "# Generate fake data for female\n",
    "data_female <- data.frame(mvrnorm(n=1000,mu=c(3,0),Sigma=rbind(c(1,.3),c(.3,1)),empirical=TRUE ))\n",
    "colnames(data_female) <- c('Income','Age')\n",
    "data_female$Gender = 'Female'\n",
    "# Combine data\n",
    "data <-rbind(data_female,data_male)\n",
    "data$Gender<-as.factor(data$Gender)\n",
    "\"\"\"\n",
    "dfTest3 = @rget data;\n",
    "names(dfTest3)"
   ]
  },
  {
   "cell_type": "code",
   "execution_count": null,
   "id": "27029ba6-853a-4d2a-b753-31f0151eb002",
   "metadata": {},
   "outputs": [],
   "source": [
    "unique(dfTest3.Gender)"
   ]
  },
  {
   "cell_type": "code",
   "execution_count": null,
   "id": "732d6a3a-b747-43ea-8492-65e60baee69d",
   "metadata": {},
   "outputs": [],
   "source": [
    "# Model Formula\n",
    "frml =  @formula(Income ~  Gender + Age + Gender*Age )\n",
    "# Apply schema to the formula\n",
    "# frml = apply_schema(frml, sch1)\n",
    "lm( frml, dfTest3, contrasts = Dict(:Gender => EffectsCoding(base = \"Female\")))"
   ]
  }
 ],
 "metadata": {
  "kernelspec": {
   "display_name": "Julia 1.7.3",
   "language": "julia",
   "name": "julia-1.7"
  },
  "language_info": {
   "file_extension": ".jl",
   "mimetype": "application/julia",
   "name": "julia",
   "version": "1.7.3"
  }
 },
 "nbformat": 4,
 "nbformat_minor": 5
}
